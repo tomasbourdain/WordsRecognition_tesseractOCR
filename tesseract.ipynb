{
 "cells": [
  {
   "cell_type": "markdown",
   "metadata": {},
   "source": [
    "# Character Recognition - TesseractOCR"
   ]
  },
  {
   "cell_type": "code",
   "execution_count": 5,
   "metadata": {},
   "outputs": [],
   "source": [
    "#!pip install pytesseract~"
   ]
  },
  {
   "cell_type": "code",
   "execution_count": null,
   "metadata": {},
   "outputs": [],
   "source": [
    "\"\"\"\n",
    "Page Segmentation modes:\n",
    "0 Orientation and script detection (OSD) only \n",
    "1 Automatic page segmentation with OSD\n",
    "2 Automatic page segmentation, but no OSD, or OCR\n",
    "3 Fully automatic page segmentation, but no OSD\n",
    "4 Assume a single column of text of variable sizes\n",
    "5 Assume a single uniform block of vertically aligned text\n",
    "6 Assume a single uniform block of text\n",
    "7 Treat the image as a single text line\n",
    "8 Treat the image as a single word\n",
    "9 Treat the image as a single word in a circle\n",
    "10 Treat the image as a single character\n",
    "11 Sparse text. Find as much text as possible in no particular order\n",
    "12 Sparse text with OSD\n",
    "13 Raw line. Treat the image as a single text line, bypassing hacks that are Tesseract-specific\n",
    "\"\"\"\n",
    "\n",
    "\"\"\"\n",
    "OCR Engine Mode\n",
    "0 Legacy engine only\n",
    "1 Neural nets LSTM engine only \n",
    "2 Legacy + LSTM engines\n",
    "3 Default, based on what is available\n",
    "\"\"\""
   ]
  },
  {
   "cell_type": "code",
   "execution_count": 1,
   "metadata": {},
   "outputs": [],
   "source": [
    "import pytesseract\n",
    "import cv2\n",
    "import PIL"
   ]
  },
  {
   "cell_type": "code",
   "execution_count": 17,
   "metadata": {},
   "outputs": [],
   "source": [
    "my_config = r\"--psm 3 --oem 3\""
   ]
  },
  {
   "cell_type": "code",
   "execution_count": 18,
   "metadata": {},
   "outputs": [
    {
     "name": "stdout",
     "output_type": "stream",
     "text": [
      "Ensure High Contrast\n",
      "for Text Over Images\n",
      "Text thats not purely decorative or part\n",
      "\n",
      "of a ogo should have a contrast ratio\n",
      "of atleast 4.5:1\n",
      "\n",
      "NN\n",
      "\n"
     ]
    }
   ],
   "source": [
    "text = pytesseract.image_to_string(PIL.Image.open(\"transferir.png\"), config=my_config)\n",
    "print(text)"
   ]
  },
  {
   "cell_type": "code",
   "execution_count": 19,
   "metadata": {},
   "outputs": [
    {
     "data": {
      "text/plain": [
       "(440, 700, 3)"
      ]
     },
     "execution_count": 19,
     "metadata": {},
     "output_type": "execute_result"
    }
   ],
   "source": [
    "img = cv2.imread(\"i1Abv.png\")\n",
    "height, width, color_channels = img.shape\n",
    "img.shape"
   ]
  },
  {
   "cell_type": "code",
   "execution_count": 21,
   "metadata": {},
   "outputs": [],
   "source": [
    "boxes = pytesseract.image_to_boxes(img, config=my_config)\n",
    "for box in boxes.splitlines():\n",
    "    box = box.split(\" \")\n",
    "    img = cv2.rectangle(img, (int(box[1]), height-int(box[2])), (int(box[3]), height - int(box[4])), (0,255,0), 2)\n",
    "\n",
    "cv2.imshow(\"img\", img)\n",
    "cv2.waitKey(0)\n",
    "cv2.destroyAllWindows()"
   ]
  },
  {
   "cell_type": "code",
   "execution_count": null,
   "metadata": {},
   "outputs": [],
   "source": []
  }
 ],
 "metadata": {
  "kernelspec": {
   "display_name": "base",
   "language": "python",
   "name": "python3"
  },
  "language_info": {
   "codemirror_mode": {
    "name": "ipython",
    "version": 3
   },
   "file_extension": ".py",
   "mimetype": "text/x-python",
   "name": "python",
   "nbconvert_exporter": "python",
   "pygments_lexer": "ipython3",
   "version": "3.9.12"
  },
  "orig_nbformat": 4,
  "vscode": {
   "interpreter": {
    "hash": "37134ace218921b74af13dd92c56fdadfb15c5b94d65c3fac1e4c7a849f19ee9"
   }
  }
 },
 "nbformat": 4,
 "nbformat_minor": 2
}
